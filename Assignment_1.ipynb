{
  "nbformat": 4,
  "nbformat_minor": 0,
  "metadata": {
    "colab": {
      "name": "Assignment 1",
      "provenance": [],
      "authorship_tag": "ABX9TyNhqMQdwtIBNgxZSkmf1b0B",
      "include_colab_link": true
    },
    "kernelspec": {
      "name": "python3",
      "display_name": "Python 3"
    }
  },
  "cells": [
    {
      "cell_type": "markdown",
      "metadata": {
        "id": "view-in-github",
        "colab_type": "text"
      },
      "source": [
        "<a href=\"https://colab.research.google.com/github/Tamilmani2801/let-s-upgrade/blob/master/Assignment_1.ipynb\" target=\"_parent\"><img src=\"https://colab.research.google.com/assets/colab-badge.svg\" alt=\"Open In Colab\"/></a>"
      ]
    },
    {
      "cell_type": "code",
      "metadata": {
        "id": "_vO0n33VZrWe",
        "colab_type": "code",
        "colab": {}
      },
      "source": [
        "#LIST"
      ],
      "execution_count": null,
      "outputs": []
    },
    {
      "cell_type": "code",
      "metadata": {
        "id": "8tbgTFYVZtqm",
        "colab_type": "code",
        "colab": {
          "base_uri": "https://localhost:8080/",
          "height": 34
        },
        "outputId": "1a45dcb4-8f56-4507-d742-76ec3bce112a"
      },
      "source": [
        "Lst = [\"Tamil\",1,2,3,4]\n",
        "Lst"
      ],
      "execution_count": 75,
      "outputs": [
        {
          "output_type": "execute_result",
          "data": {
            "text/plain": [
              "['Tamil', 1, 2, 3, 4]"
            ]
          },
          "metadata": {
            "tags": []
          },
          "execution_count": 75
        }
      ]
    },
    {
      "cell_type": "code",
      "metadata": {
        "id": "KFjrRUwwZ4nk",
        "colab_type": "code",
        "colab": {}
      },
      "source": [
        "#Append"
      ],
      "execution_count": null,
      "outputs": []
    },
    {
      "cell_type": "code",
      "metadata": {
        "id": "0wjk92YOZ7Gs",
        "colab_type": "code",
        "colab": {
          "base_uri": "https://localhost:8080/",
          "height": 34
        },
        "outputId": "c86f851f-c4b5-4c79-9d15-51a67bd1d187"
      },
      "source": [
        "Lst.append(6)\n",
        "Lst"
      ],
      "execution_count": 76,
      "outputs": [
        {
          "output_type": "execute_result",
          "data": {
            "text/plain": [
              "['Tamil', 1, 2, 3, 4, 6]"
            ]
          },
          "metadata": {
            "tags": []
          },
          "execution_count": 76
        }
      ]
    },
    {
      "cell_type": "code",
      "metadata": {
        "id": "IyFPgDcmaXQg",
        "colab_type": "code",
        "colab": {}
      },
      "source": [
        "#Remove"
      ],
      "execution_count": null,
      "outputs": []
    },
    {
      "cell_type": "code",
      "metadata": {
        "id": "gfau1QxHaa_c",
        "colab_type": "code",
        "colab": {
          "base_uri": "https://localhost:8080/",
          "height": 34
        },
        "outputId": "89cdd206-aa4e-4ffb-a183-2c1a04876c2d"
      },
      "source": [
        "Lst.remove(6)\n",
        "Lst"
      ],
      "execution_count": 77,
      "outputs": [
        {
          "output_type": "execute_result",
          "data": {
            "text/plain": [
              "['Tamil', 1, 2, 3, 4]"
            ]
          },
          "metadata": {
            "tags": []
          },
          "execution_count": 77
        }
      ]
    },
    {
      "cell_type": "code",
      "metadata": {
        "id": "QRz-XGhFaf4k",
        "colab_type": "code",
        "colab": {}
      },
      "source": [
        "#Pop"
      ],
      "execution_count": null,
      "outputs": []
    },
    {
      "cell_type": "code",
      "metadata": {
        "id": "jOx7DfHGajGW",
        "colab_type": "code",
        "colab": {
          "base_uri": "https://localhost:8080/",
          "height": 34
        },
        "outputId": "0fa7142e-fa76-4b74-a294-79126bc6ae7f"
      },
      "source": [
        "Lst.pop(2)\n",
        "Lst"
      ],
      "execution_count": 78,
      "outputs": [
        {
          "output_type": "execute_result",
          "data": {
            "text/plain": [
              "['Tamil', 1, 3, 4]"
            ]
          },
          "metadata": {
            "tags": []
          },
          "execution_count": 78
        }
      ]
    },
    {
      "cell_type": "code",
      "metadata": {
        "id": "TmTlM7mIaoxw",
        "colab_type": "code",
        "colab": {}
      },
      "source": [
        "#Index"
      ],
      "execution_count": null,
      "outputs": []
    },
    {
      "cell_type": "code",
      "metadata": {
        "id": "E8HxMRAAbfaz",
        "colab_type": "code",
        "colab": {
          "base_uri": "https://localhost:8080/",
          "height": 34
        },
        "outputId": "e2135d5e-3870-47cf-bdf3-070b8388cc61"
      },
      "source": [
        "Lst.index(3)"
      ],
      "execution_count": 86,
      "outputs": [
        {
          "output_type": "execute_result",
          "data": {
            "text/plain": [
              "2"
            ]
          },
          "metadata": {
            "tags": []
          },
          "execution_count": 86
        }
      ]
    },
    {
      "cell_type": "code",
      "metadata": {
        "id": "qeG1LmwEcGww",
        "colab_type": "code",
        "colab": {}
      },
      "source": [
        "#Reverse"
      ],
      "execution_count": null,
      "outputs": []
    },
    {
      "cell_type": "code",
      "metadata": {
        "id": "ocLCOs2XcInH",
        "colab_type": "code",
        "colab": {
          "base_uri": "https://localhost:8080/",
          "height": 34
        },
        "outputId": "f3a68a41-2cc3-4e96-aff9-aa96cf5cfc56"
      },
      "source": [
        "Lst.reverse()\n",
        "Lst"
      ],
      "execution_count": 92,
      "outputs": [
        {
          "output_type": "execute_result",
          "data": {
            "text/plain": [
              "[4, 3, 1, 'Tamil']"
            ]
          },
          "metadata": {
            "tags": []
          },
          "execution_count": 92
        }
      ]
    },
    {
      "cell_type": "code",
      "metadata": {
        "id": "f5UIECotdhe9",
        "colab_type": "code",
        "colab": {}
      },
      "source": [
        "#Count"
      ],
      "execution_count": null,
      "outputs": []
    },
    {
      "cell_type": "code",
      "metadata": {
        "id": "DLFm0UBdfHna",
        "colab_type": "code",
        "colab": {
          "base_uri": "https://localhost:8080/",
          "height": 34
        },
        "outputId": "0c09ab47-a438-4d64-9e7a-104365a8a6b7"
      },
      "source": [
        "Lst.count(1)"
      ],
      "execution_count": 105,
      "outputs": [
        {
          "output_type": "execute_result",
          "data": {
            "text/plain": [
              "1"
            ]
          },
          "metadata": {
            "tags": []
          },
          "execution_count": 105
        }
      ]
    },
    {
      "cell_type": "code",
      "metadata": {
        "id": "qVqhXhB8fPA8",
        "colab_type": "code",
        "colab": {}
      },
      "source": [
        "#clear"
      ],
      "execution_count": null,
      "outputs": []
    },
    {
      "cell_type": "code",
      "metadata": {
        "id": "feYrR873gPoN",
        "colab_type": "code",
        "colab": {
          "base_uri": "https://localhost:8080/",
          "height": 34
        },
        "outputId": "3ae618a2-ad11-4439-d624-514e2e999a2f"
      },
      "source": [
        "Lst.clear()\n",
        "Lst"
      ],
      "execution_count": 118,
      "outputs": [
        {
          "output_type": "execute_result",
          "data": {
            "text/plain": [
              "[]"
            ]
          },
          "metadata": {
            "tags": []
          },
          "execution_count": 118
        }
      ]
    },
    {
      "cell_type": "code",
      "metadata": {
        "id": "iGuUilO1h91I",
        "colab_type": "code",
        "colab": {}
      },
      "source": [
        "#Dictionary"
      ],
      "execution_count": null,
      "outputs": []
    },
    {
      "cell_type": "code",
      "metadata": {
        "id": "fw3AR-71lKt-",
        "colab_type": "code",
        "colab": {
          "base_uri": "https://localhost:8080/",
          "height": 86
        },
        "outputId": "0f002171-20c7-4ad7-aeed-01f9887f33d6"
      },
      "source": [
        "dict = {\"Name\":\"Tamilmani\",\n",
        "\"Qualification\":\"B.E.\",\n",
        "\"Gender\":\"Male\",\n",
        "\"Game\":\"Hockey\"}\n",
        "dict"
      ],
      "execution_count": 143,
      "outputs": [
        {
          "output_type": "execute_result",
          "data": {
            "text/plain": [
              "{'Game': 'Hockey',\n",
              " 'Gender': 'Male',\n",
              " 'Name': 'Tamilmani',\n",
              " 'Qualification': 'B.E.'}"
            ]
          },
          "metadata": {
            "tags": []
          },
          "execution_count": 143
        }
      ]
    },
    {
      "cell_type": "code",
      "metadata": {
        "id": "SbymyWTul9NR",
        "colab_type": "code",
        "colab": {}
      },
      "source": [
        "#Copy"
      ],
      "execution_count": null,
      "outputs": []
    },
    {
      "cell_type": "code",
      "metadata": {
        "id": "hOpo8Ad2mWam",
        "colab_type": "code",
        "colab": {
          "base_uri": "https://localhost:8080/",
          "height": 86
        },
        "outputId": "0de48ca5-ed63-43ce-d3bf-684cc8e98697"
      },
      "source": [
        "dict.copy()\n",
        "dict"
      ],
      "execution_count": 144,
      "outputs": [
        {
          "output_type": "execute_result",
          "data": {
            "text/plain": [
              "{'Game': 'Hockey',\n",
              " 'Gender': 'Male',\n",
              " 'Name': 'Tamilmani',\n",
              " 'Qualification': 'B.E.'}"
            ]
          },
          "metadata": {
            "tags": []
          },
          "execution_count": 144
        }
      ]
    },
    {
      "cell_type": "code",
      "metadata": {
        "id": "c4qKtpl-qnSz",
        "colab_type": "code",
        "colab": {}
      },
      "source": [
        "#Update"
      ],
      "execution_count": null,
      "outputs": []
    },
    {
      "cell_type": "code",
      "metadata": {
        "id": "uDRSURefqo_t",
        "colab_type": "code",
        "colab": {
          "base_uri": "https://localhost:8080/",
          "height": 103
        },
        "outputId": "e4f1eae1-aa77-4ce2-be56-be022a1995d4"
      },
      "source": [
        "dict.update(Age=19)\n",
        "dict"
      ],
      "execution_count": 157,
      "outputs": [
        {
          "output_type": "execute_result",
          "data": {
            "text/plain": [
              "{'Age': 19,\n",
              " 'Game': 'Hockey',\n",
              " 'Gender': 'Male',\n",
              " 'Name': 'Tamilmani',\n",
              " 'Qualification': 'B.E.'}"
            ]
          },
          "metadata": {
            "tags": []
          },
          "execution_count": 157
        }
      ]
    },
    {
      "cell_type": "code",
      "metadata": {
        "id": "nTaEqoG2rzxt",
        "colab_type": "code",
        "colab": {}
      },
      "source": [
        "#Clear"
      ],
      "execution_count": null,
      "outputs": []
    },
    {
      "cell_type": "code",
      "metadata": {
        "id": "Ui_CiNQSr1kP",
        "colab_type": "code",
        "colab": {
          "base_uri": "https://localhost:8080/",
          "height": 34
        },
        "outputId": "7224b660-ac5f-4670-bcda-f64f7188c07f"
      },
      "source": [
        "dict.clear()\n",
        "dict"
      ],
      "execution_count": 158,
      "outputs": [
        {
          "output_type": "execute_result",
          "data": {
            "text/plain": [
              "{}"
            ]
          },
          "metadata": {
            "tags": []
          },
          "execution_count": 158
        }
      ]
    },
    {
      "cell_type": "code",
      "metadata": {
        "id": "6-pzLs55tMwl",
        "colab_type": "code",
        "colab": {}
      },
      "source": [
        "#SET"
      ],
      "execution_count": null,
      "outputs": []
    },
    {
      "cell_type": "code",
      "metadata": {
        "id": "0L9TiCRxtU0N",
        "colab_type": "code",
        "colab": {
          "base_uri": "https://localhost:8080/",
          "height": 34
        },
        "outputId": "21fab5c2-df80-48f8-cbb4-4d08f415fb91"
      },
      "source": [
        "st = {\"Tamil\",19,2,8,1}\n",
        "st"
      ],
      "execution_count": 160,
      "outputs": [
        {
          "output_type": "execute_result",
          "data": {
            "text/plain": [
              "{1, 19, 2, 8, 'Tamil'}"
            ]
          },
          "metadata": {
            "tags": []
          },
          "execution_count": 160
        }
      ]
    },
    {
      "cell_type": "code",
      "metadata": {
        "id": "PfZrqrzuyNzo",
        "colab_type": "code",
        "colab": {}
      },
      "source": [
        "#Issubset"
      ],
      "execution_count": null,
      "outputs": []
    },
    {
      "cell_type": "code",
      "metadata": {
        "id": "dvP-bngGyl8k",
        "colab_type": "code",
        "colab": {
          "base_uri": "https://localhost:8080/",
          "height": 34
        },
        "outputId": "91c3e57b-42d0-406c-a70d-dfaf3e20c364"
      },
      "source": [
        "St1 = {\"Tamil\",19}\n",
        "St1.issubset(st)"
      ],
      "execution_count": 171,
      "outputs": [
        {
          "output_type": "execute_result",
          "data": {
            "text/plain": [
              "True"
            ]
          },
          "metadata": {
            "tags": []
          },
          "execution_count": 171
        }
      ]
    },
    {
      "cell_type": "code",
      "metadata": {
        "id": "oGCYiS2zzMFX",
        "colab_type": "code",
        "colab": {}
      },
      "source": [
        "#Isdisjoint"
      ],
      "execution_count": null,
      "outputs": []
    },
    {
      "cell_type": "code",
      "metadata": {
        "id": "PzVdg2Uty9KN",
        "colab_type": "code",
        "colab": {
          "base_uri": "https://localhost:8080/",
          "height": 34
        },
        "outputId": "f0269512-6030-4e87-d176-cdb4a36d69ff"
      },
      "source": [
        "St1.isdisjoint(st)"
      ],
      "execution_count": 170,
      "outputs": [
        {
          "output_type": "execute_result",
          "data": {
            "text/plain": [
              "False"
            ]
          },
          "metadata": {
            "tags": []
          },
          "execution_count": 170
        }
      ]
    },
    {
      "cell_type": "code",
      "metadata": {
        "id": "wqlyjlt1z7tU",
        "colab_type": "code",
        "colab": {}
      },
      "source": [
        "#Intersection"
      ],
      "execution_count": null,
      "outputs": []
    },
    {
      "cell_type": "code",
      "metadata": {
        "id": "xs7c8UN0z-yL",
        "colab_type": "code",
        "colab": {
          "base_uri": "https://localhost:8080/",
          "height": 34
        },
        "outputId": "005958ba-bc5e-4d55-8e4e-03a4037e8e2a"
      },
      "source": [
        "St2 = {\"Mani\",8}\n",
        "St2.intersection(st)"
      ],
      "execution_count": 175,
      "outputs": [
        {
          "output_type": "execute_result",
          "data": {
            "text/plain": [
              "{8}"
            ]
          },
          "metadata": {
            "tags": []
          },
          "execution_count": 175
        }
      ]
    },
    {
      "cell_type": "code",
      "metadata": {
        "id": "5viEuEHC0Wwb",
        "colab_type": "code",
        "colab": {}
      },
      "source": [
        "#Difference"
      ],
      "execution_count": null,
      "outputs": []
    },
    {
      "cell_type": "code",
      "metadata": {
        "id": "kJVNHr_d0ZDY",
        "colab_type": "code",
        "colab": {
          "base_uri": "https://localhost:8080/",
          "height": 34
        },
        "outputId": "5448de63-d5d9-45e9-d81e-890cdd18f720"
      },
      "source": [
        "St2.difference(st)"
      ],
      "execution_count": 177,
      "outputs": [
        {
          "output_type": "execute_result",
          "data": {
            "text/plain": [
              "{'Mani'}"
            ]
          },
          "metadata": {
            "tags": []
          },
          "execution_count": 177
        }
      ]
    },
    {
      "cell_type": "code",
      "metadata": {
        "id": "PPCl9-151G2x",
        "colab_type": "code",
        "colab": {}
      },
      "source": [
        "#Tuples"
      ],
      "execution_count": null,
      "outputs": []
    },
    {
      "cell_type": "code",
      "metadata": {
        "id": "dcliWGu-1auG",
        "colab_type": "code",
        "colab": {
          "base_uri": "https://localhost:8080/",
          "height": 34
        },
        "outputId": "3df23592-4350-4647-f3e9-f56c0b38194e"
      },
      "source": [
        "Tup = ('Tamil','mani')\n",
        "Tup"
      ],
      "execution_count": 183,
      "outputs": [
        {
          "output_type": "execute_result",
          "data": {
            "text/plain": [
              "('Tamil', 'mani')"
            ]
          },
          "metadata": {
            "tags": []
          },
          "execution_count": 183
        }
      ]
    },
    {
      "cell_type": "code",
      "metadata": {
        "id": "N3uJzwhg2Fwk",
        "colab_type": "code",
        "colab": {}
      },
      "source": [
        "#count"
      ],
      "execution_count": null,
      "outputs": []
    },
    {
      "cell_type": "code",
      "metadata": {
        "id": "kIe2EHUY3Nbe",
        "colab_type": "code",
        "colab": {
          "base_uri": "https://localhost:8080/",
          "height": 34
        },
        "outputId": "a5578a00-0ac6-4350-dbcf-31728d31c5bf"
      },
      "source": [
        "Tup.count(\"Tamil\")"
      ],
      "execution_count": 200,
      "outputs": [
        {
          "output_type": "execute_result",
          "data": {
            "text/plain": [
              "1"
            ]
          },
          "metadata": {
            "tags": []
          },
          "execution_count": 200
        }
      ]
    },
    {
      "cell_type": "code",
      "metadata": {
        "id": "JHYOsTcA3krB",
        "colab_type": "code",
        "colab": {}
      },
      "source": [
        "#Index"
      ],
      "execution_count": null,
      "outputs": []
    },
    {
      "cell_type": "code",
      "metadata": {
        "id": "KH7OzASq3pmv",
        "colab_type": "code",
        "colab": {
          "base_uri": "https://localhost:8080/",
          "height": 34
        },
        "outputId": "0a99375b-b979-4329-f68e-87cf18cd6c30"
      },
      "source": [
        "Tup.index(\"mani\")"
      ],
      "execution_count": 202,
      "outputs": [
        {
          "output_type": "execute_result",
          "data": {
            "text/plain": [
              "1"
            ]
          },
          "metadata": {
            "tags": []
          },
          "execution_count": 202
        }
      ]
    }
  ]
}